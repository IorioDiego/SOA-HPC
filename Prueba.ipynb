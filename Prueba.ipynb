{
  "nbformat": 4,
  "nbformat_minor": 0,
  "metadata": {
    "colab": {
      "name": "Prueba.ipynb",
      "provenance": [],
      "authorship_tag": "ABX9TyNQ13tcvAK5akXq/vjwtmJ7",
      "include_colab_link": true
    },
    "kernelspec": {
      "name": "python3",
      "display_name": "Python 3"
    },
    "language_info": {
      "name": "python"
    }
  },
  "cells": [
    {
      "cell_type": "markdown",
      "metadata": {
        "id": "view-in-github",
        "colab_type": "text"
      },
      "source": [
        "<a href=\"https://colab.research.google.com/github/IorioDiego/SOA-HPC/blob/master/Prueba.ipynb\" target=\"_parent\"><img src=\"https://colab.research.google.com/assets/colab-badge.svg\" alt=\"Open In Colab\"/></a>"
      ]
    },
    {
      "cell_type": "code",
      "metadata": {
        "id": "cCD7AUMfyuuf"
      },
      "source": [
        "#@title # 2.1 Parámetros de ejecución\n",
        "#@markdown ---\n",
        "#@markdown ### Especifique la oracion:\n",
        "sentence = \"\"\"A partir del año dosmil, debido a los problemas de disipación de calor y rendimiento final de los uniprocesadores, se empezaron a explorar nuevas formas de paralelismo dentro de un mismo chip con los procesadores multicores. Los procesadores multicores permiten aprovechar las mejoras tecnológicas de reducción de tamaño de los transistores, manteniendo o disminuyendo la frecuencia de cada CPU que forma parte del multicore. La disminución de frecuencia permite la reducción del consumo energético y como consecuencia, la necesidad de disipación de calor. Por otro lado, al tener más de una CPU se pueden alcanzar mejores rendimientos en las aplicaciones.\"\"\" #@param {type:\"string\"}\n",
        "#@markdown ---\n",
        "#@markdown ### Especifique palabra buscada\n",
        "dispercion1 = \"CPU\" #@param {type:\"string\"}\n",
        "dispercion2 = \"tamaño\" #@param {type:\"string\"}\n",
        "dispercion3 = \"procesadores\" #@param {type:\"string\"}"
      ],
      "execution_count": 24,
      "outputs": []
    },
    {
      "cell_type": "code",
      "metadata": {
        "colab": {
          "base_uri": "https://localhost:8080/"
        },
        "id": "1QrF2Y1RyPbh",
        "outputId": "26d85a89-e2a8-4b4c-c2a6-0a42e464f17c"
      },
      "source": [
        "import nltk\n",
        "\n",
        "# import all the resources for Natural Language Processing with Python\n",
        "nltk.download(\"book\")\n"
      ],
      "execution_count": 18,
      "outputs": [
        {
          "output_type": "stream",
          "name": "stdout",
          "text": [
            "[nltk_data] Downloading collection 'book'\n",
            "[nltk_data]    | \n",
            "[nltk_data]    | Downloading package abc to /root/nltk_data...\n",
            "[nltk_data]    |   Package abc is already up-to-date!\n",
            "[nltk_data]    | Downloading package brown to /root/nltk_data...\n",
            "[nltk_data]    |   Package brown is already up-to-date!\n",
            "[nltk_data]    | Downloading package chat80 to /root/nltk_data...\n",
            "[nltk_data]    |   Package chat80 is already up-to-date!\n",
            "[nltk_data]    | Downloading package cmudict to /root/nltk_data...\n",
            "[nltk_data]    |   Package cmudict is already up-to-date!\n",
            "[nltk_data]    | Downloading package conll2000 to /root/nltk_data...\n",
            "[nltk_data]    |   Package conll2000 is already up-to-date!\n",
            "[nltk_data]    | Downloading package conll2002 to /root/nltk_data...\n",
            "[nltk_data]    |   Package conll2002 is already up-to-date!\n",
            "[nltk_data]    | Downloading package dependency_treebank to\n",
            "[nltk_data]    |     /root/nltk_data...\n",
            "[nltk_data]    |   Package dependency_treebank is already up-to-date!\n",
            "[nltk_data]    | Downloading package genesis to /root/nltk_data...\n",
            "[nltk_data]    |   Package genesis is already up-to-date!\n",
            "[nltk_data]    | Downloading package gutenberg to /root/nltk_data...\n",
            "[nltk_data]    |   Package gutenberg is already up-to-date!\n",
            "[nltk_data]    | Downloading package ieer to /root/nltk_data...\n",
            "[nltk_data]    |   Package ieer is already up-to-date!\n",
            "[nltk_data]    | Downloading package inaugural to /root/nltk_data...\n",
            "[nltk_data]    |   Package inaugural is already up-to-date!\n",
            "[nltk_data]    | Downloading package movie_reviews to\n",
            "[nltk_data]    |     /root/nltk_data...\n",
            "[nltk_data]    |   Package movie_reviews is already up-to-date!\n",
            "[nltk_data]    | Downloading package nps_chat to /root/nltk_data...\n",
            "[nltk_data]    |   Package nps_chat is already up-to-date!\n",
            "[nltk_data]    | Downloading package names to /root/nltk_data...\n",
            "[nltk_data]    |   Package names is already up-to-date!\n",
            "[nltk_data]    | Downloading package ppattach to /root/nltk_data...\n",
            "[nltk_data]    |   Package ppattach is already up-to-date!\n",
            "[nltk_data]    | Downloading package reuters to /root/nltk_data...\n",
            "[nltk_data]    |   Package reuters is already up-to-date!\n",
            "[nltk_data]    | Downloading package senseval to /root/nltk_data...\n",
            "[nltk_data]    |   Package senseval is already up-to-date!\n",
            "[nltk_data]    | Downloading package state_union to /root/nltk_data...\n",
            "[nltk_data]    |   Package state_union is already up-to-date!\n",
            "[nltk_data]    | Downloading package stopwords to /root/nltk_data...\n",
            "[nltk_data]    |   Package stopwords is already up-to-date!\n",
            "[nltk_data]    | Downloading package swadesh to /root/nltk_data...\n",
            "[nltk_data]    |   Package swadesh is already up-to-date!\n",
            "[nltk_data]    | Downloading package timit to /root/nltk_data...\n",
            "[nltk_data]    |   Package timit is already up-to-date!\n",
            "[nltk_data]    | Downloading package treebank to /root/nltk_data...\n",
            "[nltk_data]    |   Package treebank is already up-to-date!\n",
            "[nltk_data]    | Downloading package toolbox to /root/nltk_data...\n",
            "[nltk_data]    |   Package toolbox is already up-to-date!\n",
            "[nltk_data]    | Downloading package udhr to /root/nltk_data...\n",
            "[nltk_data]    |   Package udhr is already up-to-date!\n",
            "[nltk_data]    | Downloading package udhr2 to /root/nltk_data...\n",
            "[nltk_data]    |   Package udhr2 is already up-to-date!\n",
            "[nltk_data]    | Downloading package unicode_samples to\n",
            "[nltk_data]    |     /root/nltk_data...\n",
            "[nltk_data]    |   Package unicode_samples is already up-to-date!\n",
            "[nltk_data]    | Downloading package webtext to /root/nltk_data...\n",
            "[nltk_data]    |   Package webtext is already up-to-date!\n",
            "[nltk_data]    | Downloading package wordnet to /root/nltk_data...\n",
            "[nltk_data]    |   Package wordnet is already up-to-date!\n",
            "[nltk_data]    | Downloading package wordnet_ic to /root/nltk_data...\n",
            "[nltk_data]    |   Package wordnet_ic is already up-to-date!\n",
            "[nltk_data]    | Downloading package words to /root/nltk_data...\n",
            "[nltk_data]    |   Package words is already up-to-date!\n",
            "[nltk_data]    | Downloading package maxent_treebank_pos_tagger to\n",
            "[nltk_data]    |     /root/nltk_data...\n",
            "[nltk_data]    |   Package maxent_treebank_pos_tagger is already up-\n",
            "[nltk_data]    |       to-date!\n",
            "[nltk_data]    | Downloading package maxent_ne_chunker to\n",
            "[nltk_data]    |     /root/nltk_data...\n",
            "[nltk_data]    |   Package maxent_ne_chunker is already up-to-date!\n",
            "[nltk_data]    | Downloading package universal_tagset to\n",
            "[nltk_data]    |     /root/nltk_data...\n",
            "[nltk_data]    |   Package universal_tagset is already up-to-date!\n",
            "[nltk_data]    | Downloading package punkt to /root/nltk_data...\n",
            "[nltk_data]    |   Package punkt is already up-to-date!\n",
            "[nltk_data]    | Downloading package book_grammars to\n",
            "[nltk_data]    |     /root/nltk_data...\n",
            "[nltk_data]    |   Package book_grammars is already up-to-date!\n",
            "[nltk_data]    | Downloading package city_database to\n",
            "[nltk_data]    |     /root/nltk_data...\n",
            "[nltk_data]    |   Package city_database is already up-to-date!\n",
            "[nltk_data]    | Downloading package tagsets to /root/nltk_data...\n",
            "[nltk_data]    |   Package tagsets is already up-to-date!\n",
            "[nltk_data]    | Downloading package panlex_swadesh to\n",
            "[nltk_data]    |     /root/nltk_data...\n",
            "[nltk_data]    |   Package panlex_swadesh is already up-to-date!\n",
            "[nltk_data]    | Downloading package averaged_perceptron_tagger to\n",
            "[nltk_data]    |     /root/nltk_data...\n",
            "[nltk_data]    |   Package averaged_perceptron_tagger is already up-\n",
            "[nltk_data]    |       to-date!\n",
            "[nltk_data]    | \n",
            "[nltk_data]  Done downloading collection book\n"
          ]
        },
        {
          "output_type": "execute_result",
          "data": {
            "text/plain": [
              "True"
            ]
          },
          "metadata": {},
          "execution_count": 18
        }
      ]
    },
    {
      "cell_type": "code",
      "metadata": {
        "colab": {
          "base_uri": "https://localhost:8080/"
        },
        "id": "9tZantfTye3l",
        "outputId": "17abf371-9668-4af0-d4bc-5ea3cd215dae"
      },
      "source": [
        "\n",
        "\n",
        "tokens = nltk.word_tokenize(sentence)\n",
        "\n",
        "print(tokens)\n",
        "\n",
        "tagged = nltk.pos_tag(tokens)\n",
        "\n",
        "print(tagged)"
      ],
      "execution_count": 25,
      "outputs": [
        {
          "output_type": "stream",
          "name": "stdout",
          "text": [
            "['A', 'partir', 'del', 'año', 'dosmil', ',', 'debido', 'a', 'los', 'problemas', 'de', 'disipación', 'de', 'calor', 'y', 'rendimiento', 'final', 'de', 'los', 'uniprocesadores', ',', 'se', 'empezaron', 'a', 'explorar', 'nuevas', 'formas', 'de', 'paralelismo', 'dentro', 'de', 'un', 'mismo', 'chip', 'con', 'los', 'procesadores', 'multicores', '.', 'Los', 'procesadores', 'multicores', 'permiten', 'aprovechar', 'las', 'mejoras', 'tecnológicas', 'de', 'reducción', 'de', 'tamaño', 'de', 'los', 'transistores', ',', 'manteniendo', 'o', 'disminuyendo', 'la', 'frecuencia', 'de', 'cada', 'CPU', 'que', 'forma', 'parte', 'del', 'multicore', '.', 'La', 'disminución', 'de', 'frecuencia', 'permite', 'la', 'reducción', 'del', 'consumo', 'energético', 'y', 'como', 'consecuencia', ',', 'la', 'necesidad', 'de', 'disipación', 'de', 'calor', '.', 'Por', 'otro', 'lado', ',', 'al', 'tener', 'más', 'de', 'una', 'CPU', 'se', 'pueden', 'alcanzar', 'mejores', 'rendimientos', 'en', 'las', 'aplicaciones', '.']\n",
            "[('A', 'DT'), ('partir', 'NN'), ('del', 'NN'), ('año', 'NN'), ('dosmil', 'NN'), (',', ','), ('debido', 'VB'), ('a', 'DT'), ('los', 'JJ'), ('problemas', 'NN'), ('de', 'IN'), ('disipación', 'FW'), ('de', 'FW'), ('calor', 'FW'), ('y', 'FW'), ('rendimiento', 'FW'), ('final', 'JJ'), ('de', 'FW'), ('los', 'FW'), ('uniprocesadores', 'NNS'), (',', ','), ('se', 'FW'), ('empezaron', 'FW'), ('a', 'DT'), ('explorar', 'NN'), ('nuevas', 'JJ'), ('formas', 'NN'), ('de', 'IN'), ('paralelismo', 'FW'), ('dentro', 'FW'), ('de', 'FW'), ('un', 'FW'), ('mismo', 'FW'), ('chip', 'NN'), ('con', 'NN'), ('los', 'NN'), ('procesadores', 'VBZ'), ('multicores', 'NNS'), ('.', '.'), ('Los', 'NNP'), ('procesadores', 'VBZ'), ('multicores', 'NNS'), ('permiten', 'VBP'), ('aprovechar', 'JJ'), ('las', 'NNS'), ('mejoras', 'FW'), ('tecnológicas', 'FW'), ('de', 'FW'), ('reducción', 'FW'), ('de', 'FW'), ('tamaño', 'FW'), ('de', 'FW'), ('los', 'FW'), ('transistores', 'NNS'), (',', ','), ('manteniendo', 'NN'), ('o', 'FW'), ('disminuyendo', 'NN'), ('la', 'FW'), ('frecuencia', 'FW'), ('de', 'FW'), ('cada', 'FW'), ('CPU', 'NNP'), ('que', 'NN'), ('forma', 'NN'), ('parte', 'NN'), ('del', 'NN'), ('multicore', 'NN'), ('.', '.'), ('La', 'NNP'), ('disminución', 'FW'), ('de', 'FW'), ('frecuencia', 'FW'), ('permite', 'JJ'), ('la', 'NN'), ('reducción', 'NN'), ('del', 'NN'), ('consumo', 'NN'), ('energético', 'NN'), ('y', 'NN'), ('como', 'NN'), ('consecuencia', 'NN'), (',', ','), ('la', 'FW'), ('necesidad', 'FW'), ('de', 'FW'), ('disipación', 'FW'), ('de', 'FW'), ('calor', 'NN'), ('.', '.'), ('Por', 'NNP'), ('otro', 'JJ'), ('lado', 'NN'), (',', ','), ('al', 'JJ'), ('tener', 'NN'), ('más', 'NN'), ('de', 'IN'), ('una', 'JJ'), ('CPU', 'NNP'), ('se', 'NN'), ('pueden', 'NN'), ('alcanzar', 'NN'), ('mejores', 'NNS'), ('rendimientos', 'VBP'), ('en', 'JJ'), ('las', 'NN'), ('aplicaciones', 'NNS'), ('.', '.')]\n"
          ]
        }
      ]
    },
    {
      "cell_type": "markdown",
      "metadata": {
        "id": "fphAKbGAymwh"
      },
      "source": [
        "entities = nltk.chunk.ne_chunk(tagged)\n",
        "\n",
        "print(entities)"
      ]
    },
    {
      "cell_type": "code",
      "metadata": {
        "colab": {
          "base_uri": "https://localhost:8080/"
        },
        "id": "dz_aPQiKyt66",
        "outputId": "636939dd-901c-45c0-ea4d-36e3d6b0d750"
      },
      "source": [
        "entities = nltk.chunk.ne_chunk(tagged)\n",
        "\n",
        "print(entities)"
      ],
      "execution_count": 26,
      "outputs": [
        {
          "output_type": "stream",
          "name": "stdout",
          "text": [
            "(S\n",
            "  A/DT\n",
            "  partir/NN\n",
            "  del/NN\n",
            "  año/NN\n",
            "  dosmil/NN\n",
            "  ,/,\n",
            "  debido/VB\n",
            "  a/DT\n",
            "  los/JJ\n",
            "  problemas/NN\n",
            "  de/IN\n",
            "  disipación/FW\n",
            "  de/FW\n",
            "  calor/FW\n",
            "  y/FW\n",
            "  rendimiento/FW\n",
            "  final/JJ\n",
            "  de/FW\n",
            "  los/FW\n",
            "  uniprocesadores/NNS\n",
            "  ,/,\n",
            "  se/FW\n",
            "  empezaron/FW\n",
            "  a/DT\n",
            "  explorar/NN\n",
            "  nuevas/JJ\n",
            "  formas/NN\n",
            "  de/IN\n",
            "  paralelismo/FW\n",
            "  dentro/FW\n",
            "  de/FW\n",
            "  un/FW\n",
            "  mismo/FW\n",
            "  chip/NN\n",
            "  con/NN\n",
            "  los/NN\n",
            "  procesadores/VBZ\n",
            "  multicores/NNS\n",
            "  ./.\n",
            "  (PERSON Los/NNP)\n",
            "  procesadores/VBZ\n",
            "  multicores/NNS\n",
            "  permiten/VBP\n",
            "  aprovechar/JJ\n",
            "  las/NNS\n",
            "  mejoras/FW\n",
            "  tecnológicas/FW\n",
            "  de/FW\n",
            "  reducción/FW\n",
            "  de/FW\n",
            "  tamaño/FW\n",
            "  de/FW\n",
            "  los/FW\n",
            "  transistores/NNS\n",
            "  ,/,\n",
            "  manteniendo/NN\n",
            "  o/FW\n",
            "  disminuyendo/NN\n",
            "  la/FW\n",
            "  frecuencia/FW\n",
            "  de/FW\n",
            "  cada/FW\n",
            "  (ORGANIZATION CPU/NNP)\n",
            "  que/NN\n",
            "  forma/NN\n",
            "  parte/NN\n",
            "  del/NN\n",
            "  multicore/NN\n",
            "  ./.\n",
            "  La/NNP\n",
            "  disminución/FW\n",
            "  de/FW\n",
            "  frecuencia/FW\n",
            "  permite/JJ\n",
            "  la/NN\n",
            "  reducción/NN\n",
            "  del/NN\n",
            "  consumo/NN\n",
            "  energético/NN\n",
            "  y/NN\n",
            "  como/NN\n",
            "  consecuencia/NN\n",
            "  ,/,\n",
            "  la/FW\n",
            "  necesidad/FW\n",
            "  de/FW\n",
            "  disipación/FW\n",
            "  de/FW\n",
            "  calor/NN\n",
            "  ./.\n",
            "  (PERSON Por/NNP)\n",
            "  otro/JJ\n",
            "  lado/NN\n",
            "  ,/,\n",
            "  al/JJ\n",
            "  tener/NN\n",
            "  más/NN\n",
            "  de/IN\n",
            "  una/JJ\n",
            "  (ORGANIZATION CPU/NNP)\n",
            "  se/NN\n",
            "  pueden/NN\n",
            "  alcanzar/NN\n",
            "  mejores/NNS\n",
            "  rendimientos/VBP\n",
            "  en/JJ\n",
            "  las/NN\n",
            "  aplicaciones/NNS\n",
            "  ./.)\n"
          ]
        }
      ]
    },
    {
      "cell_type": "code",
      "metadata": {
        "colab": {
          "base_uri": "https://localhost:8080/",
          "height": 294
        },
        "id": "yiAF-uvA0fSA",
        "outputId": "668f550c-4c4e-4048-d76c-0345d8d27a36"
      },
      "source": [
        "sentence = nltk.Text(tokens)  \n",
        "sentence.dispersion_plot([dispercion1, dispercion2,dispercion3])       "
      ],
      "execution_count": 27,
      "outputs": [
        {
          "output_type": "display_data",
          "data": {
            "image/png": "[encoded data removed]",
            "text/plain": [
              "<Figure size 432x288 with 1 Axes>"
            ]
          },
          "metadata": {
            "needs_background": "light"
          }
        }
      ]
    }
  ]
}