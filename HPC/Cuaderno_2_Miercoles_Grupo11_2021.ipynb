{
  "nbformat": 4,
  "nbformat_minor": 0,
  "metadata": {
    "colab": {
      "name": "Cuaderno_2_Miercoles_Grupo11_2021.ipynb",
      "provenance": [],
      "authorship_tag": "ABX9TyPDxQkDb03zOkpvek8Tz8ei",
      "include_colab_link": true
    },
    "kernelspec": {
      "name": "python3",
      "display_name": "Python 3"
    },
    "language_info": {
      "name": "python"
    }
  },
  "cells": [
    {
      "cell_type": "markdown",
      "metadata": {
        "id": "view-in-github",
        "colab_type": "text"
      },
      "source": [
        "<a href=\"https://colab.research.google.com/github/IorioDiego/SOA-HPC/blob/master/HPC/Cuaderno_2_Miercoles_Grupo11_2021.ipynb\" target=\"_parent\"><img src=\"https://colab.research.google.com/assets/colab-badge.svg\" alt=\"Open In Colab\"/></a>"
      ]
    },
    {
      "cell_type": "markdown",
      "metadata": {
        "id": "ZxHXSdwK_pC1"
      },
      "source": [
        "#**1. Introducción**\n",
        "En el presente notbook trabajaremos con la biblioteca NLTK  para analizar un texto pasado por parametro. A nivel general NLTK puede ser analizado tanto  desde el punto de vista de los grandes volumen de datos , asi como tambien desde la complejidad del algoritmo.Esta bivalencia se debe a que puede ser utilizado para procesar grandes flujos de caracteres a la vez que interpreta el significado global de la información. El uso de NLTK esta orientado al análisis del lenguage natural, por lo que es utilizado en el ámbito de la ciencia de datos y del machine learning  \n",
        "Especificamente nuestro algoritmo esta orientado a la busqueda de ciertas palabras dentro del texto, asi como tambien la obtención de ciertas estadísticas que brindan una compresion mayor de lo que estamos analizando."
      ]
    },
    {
      "cell_type": "markdown",
      "metadata": {
        "id": "w1s7mSIq_8rQ"
      },
      "source": [
        "#**2. Armado del ambiente**"
      ]
    },
    {
      "cell_type": "code",
      "metadata": {
        "id": "cCD7AUMfyuuf"
      },
      "source": [
        "import sys\n",
        "#@title # 2.1 Parámetros de ejecución\n",
        "#@markdown ---\n",
        "#@markdown ### Especifique la oracion:\n",
        "sentence = \"\"\"A partir del año 2000, debido a los problemas de disipación de calor y rendimiento final de los uniprocesadores, se empezaron a explorar nuevas formas de paralelismo dentro de un mismo chip con los procesadores multicores. Los procesadores multicores permiten aprovechar las mejoras tecnológicas de reducción de tamaño de los transistores, manteniendo o disminuyendo la frecuencia de cada CPU que forma parte del multicore. La disminución de frecuencia permite la reducción del consumo energético y como consecuencia, la necesidad de disipación de calor. Por otro lado, al tener más de una CPU se pueden alcanzar mejores rendimientos en las aplicaciones.\"\"\" #@param {type:\"string\"}\n",
        "\n",
        "#@markdown ---\n",
        "#@markdown ### Especifique palabra buscada\n",
        "dispersion1 = \"CPU\" #@param {type:\"string\"}\n",
        "dispersion2 = \"tamaño\" #@param {type:\"string\"}\n",
        "dispersion3 = \"procesadores\" #@param {type:\"string\"}\n",
        "\n",
        "#@markdown ---\n",
        "#@markdown ### Especifique palabra buscada\n",
        "palabra = \"CPU\" #@param {type:\"string\"}\n",
        "\n",
        "if not dispersion1:\n",
        "  print(\"El parametro dispersion1 no puede ser una cadena vacia\")\n",
        "  sys.exit(1)\n",
        "if not dispersion2:\n",
        "  print(\"El parametro dispersion2 no puede ser una cadena vacia\")\n",
        "  sys.exit(2)\n",
        "if not dispersion3:\n",
        "  print(\"El parametro dispersion3 no puede ser una cadena vacia\")\n",
        "  sys.exit(3)\n",
        "if not palabra:\n",
        "  print(\"El parametro palabra no puede ser una cadena vacia\")\n",
        "  sys.exit(4)\n",
        "if not sentence:\n",
        "  print(\"El parametro sentence no puede ser una cadena vacia\")\n",
        "  sys.exit(5)\n"
      ],
      "execution_count": 12,
      "outputs": []
    },
    {
      "cell_type": "code",
      "metadata": {
        "colab": {
          "base_uri": "https://localhost:8080/"
        },
        "id": "1QrF2Y1RyPbh",
        "outputId": "7e7e46e7-a6d8-4312-dcf8-0bf20fc91d86"
      },
      "source": [
        "import nltk\n",
        "\n",
        "# import all the resources for Natural Language Processing with Python\n",
        "nltk.download(\"book\")\n"
      ],
      "execution_count": 2,
      "outputs": [
        {
          "output_type": "stream",
          "name": "stdout",
          "text": [
            "[nltk_data] Downloading collection 'book'\n",
            "[nltk_data]    | \n",
            "[nltk_data]    | Downloading package abc to /root/nltk_data...\n",
            "[nltk_data]    |   Unzipping corpora/abc.zip.\n",
            "[nltk_data]    | Downloading package brown to /root/nltk_data...\n",
            "[nltk_data]    |   Unzipping corpora/brown.zip.\n",
            "[nltk_data]    | Downloading package chat80 to /root/nltk_data...\n",
            "[nltk_data]    |   Unzipping corpora/chat80.zip.\n",
            "[nltk_data]    | Downloading package cmudict to /root/nltk_data...\n",
            "[nltk_data]    |   Unzipping corpora/cmudict.zip.\n",
            "[nltk_data]    | Downloading package conll2000 to /root/nltk_data...\n",
            "[nltk_data]    |   Unzipping corpora/conll2000.zip.\n",
            "[nltk_data]    | Downloading package conll2002 to /root/nltk_data...\n",
            "[nltk_data]    |   Unzipping corpora/conll2002.zip.\n",
            "[nltk_data]    | Downloading package dependency_treebank to\n",
            "[nltk_data]    |     /root/nltk_data...\n",
            "[nltk_data]    |   Unzipping corpora/dependency_treebank.zip.\n",
            "[nltk_data]    | Downloading package genesis to /root/nltk_data...\n",
            "[nltk_data]    |   Unzipping corpora/genesis.zip.\n",
            "[nltk_data]    | Downloading package gutenberg to /root/nltk_data...\n",
            "[nltk_data]    |   Unzipping corpora/gutenberg.zip.\n",
            "[nltk_data]    | Downloading package ieer to /root/nltk_data...\n",
            "[nltk_data]    |   Unzipping corpora/ieer.zip.\n",
            "[nltk_data]    | Downloading package inaugural to /root/nltk_data...\n",
            "[nltk_data]    |   Unzipping corpora/inaugural.zip.\n",
            "[nltk_data]    | Downloading package movie_reviews to\n",
            "[nltk_data]    |     /root/nltk_data...\n",
            "[nltk_data]    |   Unzipping corpora/movie_reviews.zip.\n",
            "[nltk_data]    | Downloading package nps_chat to /root/nltk_data...\n",
            "[nltk_data]    |   Unzipping corpora/nps_chat.zip.\n",
            "[nltk_data]    | Downloading package names to /root/nltk_data...\n",
            "[nltk_data]    |   Unzipping corpora/names.zip.\n",
            "[nltk_data]    | Downloading package ppattach to /root/nltk_data...\n",
            "[nltk_data]    |   Unzipping corpora/ppattach.zip.\n",
            "[nltk_data]    | Downloading package reuters to /root/nltk_data...\n",
            "[nltk_data]    | Downloading package senseval to /root/nltk_data...\n",
            "[nltk_data]    |   Unzipping corpora/senseval.zip.\n",
            "[nltk_data]    | Downloading package state_union to /root/nltk_data...\n",
            "[nltk_data]    |   Unzipping corpora/state_union.zip.\n",
            "[nltk_data]    | Downloading package stopwords to /root/nltk_data...\n",
            "[nltk_data]    |   Unzipping corpora/stopwords.zip.\n",
            "[nltk_data]    | Downloading package swadesh to /root/nltk_data...\n",
            "[nltk_data]    |   Unzipping corpora/swadesh.zip.\n",
            "[nltk_data]    | Downloading package timit to /root/nltk_data...\n",
            "[nltk_data]    |   Unzipping corpora/timit.zip.\n",
            "[nltk_data]    | Downloading package treebank to /root/nltk_data...\n",
            "[nltk_data]    |   Unzipping corpora/treebank.zip.\n",
            "[nltk_data]    | Downloading package toolbox to /root/nltk_data...\n",
            "[nltk_data]    |   Unzipping corpora/toolbox.zip.\n",
            "[nltk_data]    | Downloading package udhr to /root/nltk_data...\n",
            "[nltk_data]    |   Unzipping corpora/udhr.zip.\n",
            "[nltk_data]    | Downloading package udhr2 to /root/nltk_data...\n",
            "[nltk_data]    |   Unzipping corpora/udhr2.zip.\n",
            "[nltk_data]    | Downloading package unicode_samples to\n",
            "[nltk_data]    |     /root/nltk_data...\n",
            "[nltk_data]    |   Unzipping corpora/unicode_samples.zip.\n",
            "[nltk_data]    | Downloading package webtext to /root/nltk_data...\n",
            "[nltk_data]    |   Unzipping corpora/webtext.zip.\n",
            "[nltk_data]    | Downloading package wordnet to /root/nltk_data...\n",
            "[nltk_data]    |   Unzipping corpora/wordnet.zip.\n",
            "[nltk_data]    | Downloading package wordnet_ic to /root/nltk_data...\n",
            "[nltk_data]    |   Unzipping corpora/wordnet_ic.zip.\n",
            "[nltk_data]    | Downloading package words to /root/nltk_data...\n",
            "[nltk_data]    |   Unzipping corpora/words.zip.\n",
            "[nltk_data]    | Downloading package maxent_treebank_pos_tagger to\n",
            "[nltk_data]    |     /root/nltk_data...\n",
            "[nltk_data]    |   Unzipping taggers/maxent_treebank_pos_tagger.zip.\n",
            "[nltk_data]    | Downloading package maxent_ne_chunker to\n",
            "[nltk_data]    |     /root/nltk_data...\n",
            "[nltk_data]    |   Unzipping chunkers/maxent_ne_chunker.zip.\n",
            "[nltk_data]    | Downloading package universal_tagset to\n",
            "[nltk_data]    |     /root/nltk_data...\n",
            "[nltk_data]    |   Unzipping taggers/universal_tagset.zip.\n",
            "[nltk_data]    | Downloading package punkt to /root/nltk_data...\n",
            "[nltk_data]    |   Unzipping tokenizers/punkt.zip.\n",
            "[nltk_data]    | Downloading package book_grammars to\n",
            "[nltk_data]    |     /root/nltk_data...\n",
            "[nltk_data]    |   Unzipping grammars/book_grammars.zip.\n",
            "[nltk_data]    | Downloading package city_database to\n",
            "[nltk_data]    |     /root/nltk_data...\n",
            "[nltk_data]    |   Unzipping corpora/city_database.zip.\n",
            "[nltk_data]    | Downloading package tagsets to /root/nltk_data...\n",
            "[nltk_data]    |   Unzipping help/tagsets.zip.\n",
            "[nltk_data]    | Downloading package panlex_swadesh to\n",
            "[nltk_data]    |     /root/nltk_data...\n",
            "[nltk_data]    | Downloading package averaged_perceptron_tagger to\n",
            "[nltk_data]    |     /root/nltk_data...\n",
            "[nltk_data]    |   Unzipping taggers/averaged_perceptron_tagger.zip.\n",
            "[nltk_data]    | \n",
            "[nltk_data]  Done downloading collection book\n"
          ]
        },
        {
          "output_type": "execute_result",
          "data": {
            "text/plain": [
              "True"
            ]
          },
          "metadata": {},
          "execution_count": 2
        }
      ]
    },
    {
      "cell_type": "markdown",
      "metadata": {
        "id": "Nv-NG80f__Lv"
      },
      "source": [
        "#**3.Desarrollo**"
      ]
    },
    {
      "cell_type": "markdown",
      "metadata": {
        "id": "j-6MbwLtCtrF"
      },
      "source": [
        "Para poder analizar la oración pasada por parametro es necesario tokenizarla, es decir, separarla en los lexemas individuales que conforman el texto \n"
      ]
    },
    {
      "cell_type": "code",
      "metadata": {
        "colab": {
          "base_uri": "https://localhost:8080/"
        },
        "id": "9tZantfTye3l",
        "outputId": "ec8a5c6c-ae62-4685-c3f6-381d6fff0d0e"
      },
      "source": [
        "sentence = str(sentence)\n",
        "tokens = nltk.word_tokenize(sentence)\n",
        "\n",
        "print(tokens)\n",
        "\n",
        "tagged = nltk.pos_tag(tokens)\n",
        "\n",
        "print(tagged)"
      ],
      "execution_count": 3,
      "outputs": [
        {
          "output_type": "stream",
          "name": "stdout",
          "text": [
            "['A', 'partir', 'del', 'año', '2000', ',', 'debido', 'a', 'los', 'problemas', 'de', 'disipación', 'de', 'calor', 'y', 'rendimiento', 'final', 'de', 'los', 'uniprocesadores', ',', 'se', 'empezaron', 'a', 'explorar', 'nuevas', 'formas', 'de', 'paralelismo', 'dentro', 'de', 'un', 'mismo', 'chip', 'con', 'los', 'procesadores', 'multicores', '.', 'Los', 'procesadores', 'multicores', 'permiten', 'aprovechar', 'las', 'mejoras', 'tecnológicas', 'de', 'reducción', 'de', 'tamaño', 'de', 'los', 'transistores', ',', 'manteniendo', 'o', 'disminuyendo', 'la', 'frecuencia', 'de', 'cada', 'CPU', 'que', 'forma', 'parte', 'del', 'multicore', '.', 'La', 'disminución', 'de', 'frecuencia', 'permite', 'la', 'reducción', 'del', 'consumo', 'energético', 'y', 'como', 'consecuencia', ',', 'la', 'necesidad', 'de', 'disipación', 'de', 'calor', '.', 'Por', 'otro', 'lado', ',', 'al', 'tener', 'más', 'de', 'una', 'CPU', 'se', 'pueden', 'alcanzar', 'mejores', 'rendimientos', 'en', 'las', 'aplicaciones', '.']\n",
            "[('A', 'DT'), ('partir', 'NN'), ('del', 'NN'), ('año', 'NN'), ('2000', 'CD'), (',', ','), ('debido', 'VBZ'), ('a', 'DT'), ('los', 'JJ'), ('problemas', 'NN'), ('de', 'IN'), ('disipación', 'FW'), ('de', 'FW'), ('calor', 'FW'), ('y', 'FW'), ('rendimiento', 'FW'), ('final', 'JJ'), ('de', 'FW'), ('los', 'FW'), ('uniprocesadores', 'NNS'), (',', ','), ('se', 'FW'), ('empezaron', 'FW'), ('a', 'DT'), ('explorar', 'NN'), ('nuevas', 'JJ'), ('formas', 'NN'), ('de', 'IN'), ('paralelismo', 'FW'), ('dentro', 'FW'), ('de', 'FW'), ('un', 'FW'), ('mismo', 'FW'), ('chip', 'NN'), ('con', 'NN'), ('los', 'NN'), ('procesadores', 'VBZ'), ('multicores', 'NNS'), ('.', '.'), ('Los', 'NNP'), ('procesadores', 'VBZ'), ('multicores', 'NNS'), ('permiten', 'VBP'), ('aprovechar', 'JJ'), ('las', 'NNS'), ('mejoras', 'FW'), ('tecnológicas', 'FW'), ('de', 'FW'), ('reducción', 'FW'), ('de', 'FW'), ('tamaño', 'FW'), ('de', 'FW'), ('los', 'FW'), ('transistores', 'NNS'), (',', ','), ('manteniendo', 'NN'), ('o', 'FW'), ('disminuyendo', 'NN'), ('la', 'FW'), ('frecuencia', 'FW'), ('de', 'FW'), ('cada', 'FW'), ('CPU', 'NNP'), ('que', 'NN'), ('forma', 'NN'), ('parte', 'NN'), ('del', 'NN'), ('multicore', 'NN'), ('.', '.'), ('La', 'NNP'), ('disminución', 'FW'), ('de', 'FW'), ('frecuencia', 'FW'), ('permite', 'JJ'), ('la', 'NN'), ('reducción', 'NN'), ('del', 'NN'), ('consumo', 'NN'), ('energético', 'NN'), ('y', 'NN'), ('como', 'NN'), ('consecuencia', 'NN'), (',', ','), ('la', 'FW'), ('necesidad', 'FW'), ('de', 'FW'), ('disipación', 'FW'), ('de', 'FW'), ('calor', 'NN'), ('.', '.'), ('Por', 'NNP'), ('otro', 'JJ'), ('lado', 'NN'), (',', ','), ('al', 'JJ'), ('tener', 'NN'), ('más', 'NN'), ('de', 'IN'), ('una', 'JJ'), ('CPU', 'NNP'), ('se', 'NN'), ('pueden', 'NN'), ('alcanzar', 'NN'), ('mejores', 'NNS'), ('rendimientos', 'VBP'), ('en', 'JJ'), ('las', 'NN'), ('aplicaciones', 'NNS'), ('.', '.')]\n"
          ]
        }
      ]
    },
    {
      "cell_type": "markdown",
      "metadata": {
        "id": "Ci9mTUqTGnO0"
      },
      "source": [
        "Una vez tokenizado podemos pasar a analizar al oración, de varias formas como por ejemplo encontrar la posición y dispersion de palabras que consideremos \"clave\". "
      ]
    },
    {
      "cell_type": "code",
      "metadata": {
        "colab": {
          "base_uri": "https://localhost:8080/",
          "height": 295
        },
        "id": "yiAF-uvA0fSA",
        "outputId": "d7bfdfcc-6ff0-4bd7-f9df-6554b4b5e33c"
      },
      "source": [
        "sentence = nltk.Text(tokens)  \n",
        "sentence.dispersion_plot([dispersion1, dispersion2,dispersion3])       "
      ],
      "execution_count": 4,
      "outputs": [
        {
          "output_type": "display_data",
          "data": {
            "image/png": "[encoded data removed]",
            "text/plain": [
              "<Figure size 432x288 with 1 Axes>"
            ]
          },
          "metadata": {
            "needs_background": "light"
          }
        }
      ]
    },
    {
      "cell_type": "markdown",
      "metadata": {
        "id": "SvaARDX6G330"
      },
      "source": [
        "Por otro lado podemos mostrar información de la oración o texto utilizado,como el título (si lo tuviese) o la cantidad de palabras que  la conforman. Adicionalmente se puede mostrar sin repetición y de manera ordenada los tokens que conforman la oración "
      ]
    },
    {
      "cell_type": "code",
      "metadata": {
        "colab": {
          "base_uri": "https://localhost:8080/"
        },
        "id": "IF0sJyys-iRw",
        "outputId": "e324bd64-18dc-4b29-fcad-b8aa9634c0b9"
      },
      "source": [
        "print(sentence)\n",
        "print(len(sentence))\n",
        "print(sorted(set(sentence))) "
      ],
      "execution_count": 5,
      "outputs": [
        {
          "output_type": "stream",
          "name": "stdout",
          "text": [
            "<Text: A partir del año 2000 , debido a...>\n",
            "109\n",
            "[',', '.', '2000', 'A', 'CPU', 'La', 'Los', 'Por', 'a', 'al', 'alcanzar', 'aplicaciones', 'aprovechar', 'año', 'cada', 'calor', 'chip', 'como', 'con', 'consecuencia', 'consumo', 'de', 'debido', 'del', 'dentro', 'disipación', 'disminución', 'disminuyendo', 'empezaron', 'en', 'energético', 'explorar', 'final', 'forma', 'formas', 'frecuencia', 'la', 'lado', 'las', 'los', 'manteniendo', 'mejoras', 'mejores', 'mismo', 'multicore', 'multicores', 'más', 'necesidad', 'nuevas', 'o', 'otro', 'paralelismo', 'parte', 'partir', 'permite', 'permiten', 'problemas', 'procesadores', 'pueden', 'que', 'reducción', 'rendimiento', 'rendimientos', 'se', 'tamaño', 'tecnológicas', 'tener', 'transistores', 'un', 'una', 'uniprocesadores', 'y']\n"
          ]
        }
      ]
    },
    {
      "cell_type": "markdown",
      "metadata": {
        "id": "BH5BahJtHxNy"
      },
      "source": [
        "Finalmente podemos extraer metricas a nivel general del texto analizado"
      ]
    },
    {
      "cell_type": "markdown",
      "metadata": {
        "id": "JfUirPx7LX2-"
      },
      "source": [
        "#**4.Metricas**"
      ]
    },
    {
      "cell_type": "code",
      "metadata": {
        "colab": {
          "base_uri": "https://localhost:8080/"
        },
        "id": "nY-ryN2w-v5p",
        "outputId": "78e8d3bc-8058-4704-ea9f-2367a65f17a8"
      },
      "source": [
        "def lexical_diversity(text):\n",
        "  return len(set(text)) / len(text) # cant de palabras totales del texot / cant de lexemas unicos\n",
        "def percentage(count, total):\n",
        "  return 100 * count / total\n",
        "\n",
        "print(\"Porcetaje de palabras diferentes en el texto = cant palabras totales / cant de lexemas unicos   = \", lexical_diversity(sentence))\n",
        "\n",
        "print(\"\\nPorcetaje de aparicion de cierta palabra = cant de veces de palabra / cant total de palabras\",percentage(sentence.count(palabra), len(sentence)))  # porcentaje de aparicionde la palabra\n",
        "\n",
        "\n"
      ],
      "execution_count": 6,
      "outputs": [
        {
          "output_type": "stream",
          "name": "stdout",
          "text": [
            "Porcetaje de palabras diferentes en el texto = cant palabras totales / cant de lexemas unicos   =  0.6605504587155964\n",
            "\n",
            "Porcetaje de aparicion de cierta palabra = cant de veces de palabra / cant total de palabras 1.834862385321101\n"
          ]
        }
      ]
    },
    {
      "cell_type": "markdown",
      "metadata": {
        "id": "cHrPXp-3J7w8"
      },
      "source": [
        "#**5.Conclusión**"
      ]
    },
    {
      "cell_type": "markdown",
      "metadata": {
        "id": "9oN87V6sKCR6"
      },
      "source": [
        "Para finalizar podemos decir que NTLK es una biblioteca con una amplia variedad de usos. Nuestro ejemplo está orientado a mostrar una funcionalidad sencilla, como una introducción que pretende mostrar su fácil implementación dentro de Python. NTLK permite trabajar con un texto de larga extensión así como también pone a disposición herramientas para su análisis y compresión. Abstrae toda la lógica interna de los algoritmos y pone en manos del programador una herramienta muy poderosa y robusta.\n"
      ]
    },
    {
      "cell_type": "markdown",
      "metadata": {
        "id": "YkD1qHmwMEbf"
      },
      "source": [
        "#**6.Bibliografía**"
      ]
    },
    {
      "cell_type": "markdown",
      "metadata": {
        "id": "DqLQhb7uMK-C"
      },
      "source": [
        "[1].Rakhi Joon && Archana Singhal.(2017, Feb))Analysis of Mwes in Hindi Text Using [NTLK](https://www.academia.edu/54277639/Analysis_of_Mwes_in_Hindi_Text_Using_NLTK)\n",
        "\n",
        "[2]Manuel Burghardt, Julian Porsch, Bianca Tirlea, & Christian Wolff(2014).WebNLP: An Integrated Web-Interface for Python NLTK and Voyant[NTLK](https://www.academia.edu/28594381/WebNLP_An_Integrated_Web_Interface_for_Python_NLTK_and_Voyant)\n",
        "\n",
        "[3].[codigo de referencia](https://colab.research.google.com/github/mhuckvale/pals0039/blob/master/Tutorial_NLTK.ipynb#scrollTo=ca_e5fjQxOCG)\n"
      ]
    }
  ]
}